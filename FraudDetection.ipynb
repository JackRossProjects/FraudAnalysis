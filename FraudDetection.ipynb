{
 "cells": [
  {
   "cell_type": "markdown",
   "metadata": {},
   "source": [
    "<h1>Credit Card Fraud Detection</h1>\n",
    "<h2>Tasks</h2>\n",
    "<li>Explore the dataset / Visualize</li>\n",
    "<li>Decide which features are important</li>\n",
    "<li>Perform machine learning</li>\n",
    "<li>Test the model on the training set</li>\n",
    "        \n"
   ]
  },
  {
   "cell_type": "markdown",
   "metadata": {},
   "source": [
    "<h2>Import dependancies</h2>"
   ]
  },
  {
   "cell_type": "code",
   "execution_count": 1,
   "metadata": {},
   "outputs": [],
   "source": [
    "import random\n",
    "import numpy as np\n",
    "import sklearn as sk\n",
    "import pandas as pd\n",
    "import seaborn as sns\n",
    "import matplotlib.pyplot as plt\n",
    "from sklearn.preprocessing import scale\n",
    "from sklearn import linear_model\n",
    "from sklearn.model_selection import train_test_split\n",
    "from sklearn import metrics\n",
    "from sklearn.cluster import KMeans\n",
    "from sklearn.datasets import load_digits\n",
    "from sklearn.decomposition import PCA\n",
    "from sklearn.model_selection import StratifiedShuffleSplit\n",
    "from sklearn.linear_model import LogisticRegression\n",
    "from sklearn.metrics import classification_report"
   ]
  },
  {
   "cell_type": "markdown",
   "metadata": {},
   "source": [
    "<h2>Create pandas dataset</h2>"
   ]
  },
  {
   "cell_type": "code",
   "execution_count": 2,
   "metadata": {},
   "outputs": [
    {
     "data": {
      "text/html": [
       "<div>\n",
       "<style scoped>\n",
       "    .dataframe tbody tr th:only-of-type {\n",
       "        vertical-align: middle;\n",
       "    }\n",
       "\n",
       "    .dataframe tbody tr th {\n",
       "        vertical-align: top;\n",
       "    }\n",
       "\n",
       "    .dataframe thead th {\n",
       "        text-align: right;\n",
       "    }\n",
       "</style>\n",
       "<table border=\"1\" class=\"dataframe\">\n",
       "  <thead>\n",
       "    <tr style=\"text-align: right;\">\n",
       "      <th></th>\n",
       "      <th>Time</th>\n",
       "      <th>V1</th>\n",
       "      <th>V2</th>\n",
       "      <th>V3</th>\n",
       "      <th>V4</th>\n",
       "      <th>V5</th>\n",
       "      <th>V6</th>\n",
       "      <th>V7</th>\n",
       "      <th>V8</th>\n",
       "      <th>V9</th>\n",
       "      <th>...</th>\n",
       "      <th>V21</th>\n",
       "      <th>V22</th>\n",
       "      <th>V23</th>\n",
       "      <th>V24</th>\n",
       "      <th>V25</th>\n",
       "      <th>V26</th>\n",
       "      <th>V27</th>\n",
       "      <th>V28</th>\n",
       "      <th>Amount</th>\n",
       "      <th>Class</th>\n",
       "    </tr>\n",
       "  </thead>\n",
       "  <tbody>\n",
       "    <tr>\n",
       "      <td>0</td>\n",
       "      <td>170855.0</td>\n",
       "      <td>0.156732</td>\n",
       "      <td>1.063919</td>\n",
       "      <td>-0.487379</td>\n",
       "      <td>-0.595187</td>\n",
       "      <td>1.048420</td>\n",
       "      <td>-0.694332</td>\n",
       "      <td>1.027485</td>\n",
       "      <td>-0.131451</td>\n",
       "      <td>-0.120848</td>\n",
       "      <td>...</td>\n",
       "      <td>-0.346799</td>\n",
       "      <td>-0.827847</td>\n",
       "      <td>0.072384</td>\n",
       "      <td>0.384810</td>\n",
       "      <td>-0.371629</td>\n",
       "      <td>0.123378</td>\n",
       "      <td>0.224312</td>\n",
       "      <td>0.083687</td>\n",
       "      <td>7.70</td>\n",
       "      <td>0</td>\n",
       "    </tr>\n",
       "    <tr>\n",
       "      <td>1</td>\n",
       "      <td>51833.0</td>\n",
       "      <td>-0.304248</td>\n",
       "      <td>1.052461</td>\n",
       "      <td>0.827117</td>\n",
       "      <td>-0.325545</td>\n",
       "      <td>0.645941</td>\n",
       "      <td>0.010074</td>\n",
       "      <td>0.604164</td>\n",
       "      <td>0.140427</td>\n",
       "      <td>-0.589492</td>\n",
       "      <td>...</td>\n",
       "      <td>-0.286232</td>\n",
       "      <td>-0.783232</td>\n",
       "      <td>-0.167091</td>\n",
       "      <td>-0.899729</td>\n",
       "      <td>-0.031337</td>\n",
       "      <td>0.127015</td>\n",
       "      <td>0.240090</td>\n",
       "      <td>0.076479</td>\n",
       "      <td>6.15</td>\n",
       "      <td>0</td>\n",
       "    </tr>\n",
       "    <tr>\n",
       "      <td>2</td>\n",
       "      <td>39500.0</td>\n",
       "      <td>-2.500902</td>\n",
       "      <td>0.064256</td>\n",
       "      <td>0.721978</td>\n",
       "      <td>1.082510</td>\n",
       "      <td>0.376848</td>\n",
       "      <td>0.245962</td>\n",
       "      <td>-0.807508</td>\n",
       "      <td>-2.544744</td>\n",
       "      <td>-0.389156</td>\n",
       "      <td>...</td>\n",
       "      <td>-1.249027</td>\n",
       "      <td>1.187490</td>\n",
       "      <td>0.861555</td>\n",
       "      <td>-0.034527</td>\n",
       "      <td>-0.395773</td>\n",
       "      <td>-0.405974</td>\n",
       "      <td>-0.635587</td>\n",
       "      <td>-0.035970</td>\n",
       "      <td>26.53</td>\n",
       "      <td>0</td>\n",
       "    </tr>\n",
       "    <tr>\n",
       "      <td>3</td>\n",
       "      <td>51911.0</td>\n",
       "      <td>-1.863516</td>\n",
       "      <td>-0.614367</td>\n",
       "      <td>2.490804</td>\n",
       "      <td>0.299000</td>\n",
       "      <td>1.046616</td>\n",
       "      <td>-0.115720</td>\n",
       "      <td>0.223632</td>\n",
       "      <td>-0.057753</td>\n",
       "      <td>0.416245</td>\n",
       "      <td>...</td>\n",
       "      <td>-0.174426</td>\n",
       "      <td>0.121783</td>\n",
       "      <td>0.581616</td>\n",
       "      <td>-0.447425</td>\n",
       "      <td>0.801706</td>\n",
       "      <td>-0.440827</td>\n",
       "      <td>-0.054843</td>\n",
       "      <td>-0.252319</td>\n",
       "      <td>9.99</td>\n",
       "      <td>0</td>\n",
       "    </tr>\n",
       "    <tr>\n",
       "      <td>4</td>\n",
       "      <td>31530.0</td>\n",
       "      <td>1.333728</td>\n",
       "      <td>0.232426</td>\n",
       "      <td>-1.708410</td>\n",
       "      <td>-0.070780</td>\n",
       "      <td>2.556949</td>\n",
       "      <td>3.062569</td>\n",
       "      <td>-0.034007</td>\n",
       "      <td>0.647466</td>\n",
       "      <td>-0.400591</td>\n",
       "      <td>...</td>\n",
       "      <td>-0.051475</td>\n",
       "      <td>-0.243130</td>\n",
       "      <td>-0.179704</td>\n",
       "      <td>1.009990</td>\n",
       "      <td>1.009982</td>\n",
       "      <td>-0.280482</td>\n",
       "      <td>-0.005862</td>\n",
       "      <td>0.003838</td>\n",
       "      <td>0.89</td>\n",
       "      <td>0</td>\n",
       "    </tr>\n",
       "  </tbody>\n",
       "</table>\n",
       "<p>5 rows × 31 columns</p>\n",
       "</div>"
      ],
      "text/plain": [
       "       Time        V1        V2        V3        V4        V5        V6  \\\n",
       "0  170855.0  0.156732  1.063919 -0.487379 -0.595187  1.048420 -0.694332   \n",
       "1   51833.0 -0.304248  1.052461  0.827117 -0.325545  0.645941  0.010074   \n",
       "2   39500.0 -2.500902  0.064256  0.721978  1.082510  0.376848  0.245962   \n",
       "3   51911.0 -1.863516 -0.614367  2.490804  0.299000  1.046616 -0.115720   \n",
       "4   31530.0  1.333728  0.232426 -1.708410 -0.070780  2.556949  3.062569   \n",
       "\n",
       "         V7        V8        V9  ...       V21       V22       V23       V24  \\\n",
       "0  1.027485 -0.131451 -0.120848  ... -0.346799 -0.827847  0.072384  0.384810   \n",
       "1  0.604164  0.140427 -0.589492  ... -0.286232 -0.783232 -0.167091 -0.899729   \n",
       "2 -0.807508 -2.544744 -0.389156  ... -1.249027  1.187490  0.861555 -0.034527   \n",
       "3  0.223632 -0.057753  0.416245  ... -0.174426  0.121783  0.581616 -0.447425   \n",
       "4 -0.034007  0.647466 -0.400591  ... -0.051475 -0.243130 -0.179704  1.009990   \n",
       "\n",
       "        V25       V26       V27       V28  Amount  Class  \n",
       "0 -0.371629  0.123378  0.224312  0.083687    7.70      0  \n",
       "1 -0.031337  0.127015  0.240090  0.076479    6.15      0  \n",
       "2 -0.395773 -0.405974 -0.635587 -0.035970   26.53      0  \n",
       "3  0.801706 -0.440827 -0.054843 -0.252319    9.99      0  \n",
       "4  1.009982 -0.280482 -0.005862  0.003838    0.89      0  \n",
       "\n",
       "[5 rows x 31 columns]"
      ]
     },
     "execution_count": 2,
     "metadata": {},
     "output_type": "execute_result"
    }
   ],
   "source": [
    "df = pd.read_csv('/home/jack/Desktop/creditcard.csv', low_memory=False)\n",
    "df = df.sample(frac=1).reset_index(drop=True)\n",
    "df.head()"
   ]
  },
  {
   "cell_type": "markdown",
   "metadata": {},
   "source": [
    "<h2>Partition the data with pandas location(.loc)<h2>\n",
    "<h3>Transactions of class 1 are fraudulent<br>\n",
    "    Transactions of class 0 are nonfraudulent</h3>"
   ]
  },
  {
   "cell_type": "code",
   "execution_count": 3,
   "metadata": {},
   "outputs": [],
   "source": [
    "fraud = df.loc[df['Class'] == 1]\n",
    "non_frauds = df.loc[df['Class'] == 0]"
   ]
  },
  {
   "cell_type": "markdown",
   "metadata": {},
   "source": [
    "<h2>Number of fraudulent and nonfraudulent transactions</h2>"
   ]
  },
  {
   "cell_type": "code",
   "execution_count": 4,
   "metadata": {
    "scrolled": true
   },
   "outputs": [
    {
     "name": "stdout",
     "output_type": "stream",
     "text": [
      "Number of fraud transactions: \n",
      "492\n",
      "Number of non fraud transactions: \n",
      "284315\n"
     ]
    }
   ],
   "source": [
    "print(\"Number of fraud transactions: \")\n",
    "print(len(fraud))\n",
    "\n",
    "print(\"Number of non fraud transactions: \")\n",
    "print(len(non_frauds))"
   ]
  },
  {
   "cell_type": "markdown",
   "metadata": {},
   "source": [
    "<h2>Scatter plot of all transactions by amount and class</h2>"
   ]
  },
  {
   "cell_type": "code",
   "execution_count": 5,
   "metadata": {},
   "outputs": [
    {
     "data": {
      "image/png": "[encoded data removed]",
      "text/plain": [
       "<matplotlib.figure.Figure at 0x7f1993b6ba58>"
      ]
     },
     "metadata": {},
     "output_type": "display_data"
    }
   ],
   "source": [
    "ax = fraud.plot.scatter(x='Amount', y='Class', color='Orange', label='Fraud')\n",
    "non_frauds.plot.scatter(x='Amount', y='Class', color='Blue', label='Not fraud', ax=ax)\n",
    "plt.show()"
   ]
  },
  {
   "cell_type": "markdown",
   "metadata": {},
   "source": [
    "<h2>Fraudulent transactions by time and amount</h2>"
   ]
  },
  {
   "cell_type": "code",
   "execution_count": 6,
   "metadata": {},
   "outputs": [
    {
     "name": "stderr",
     "output_type": "stream",
     "text": [
      "/usr/lib/python3/dist-packages/seaborn/categorical.py:1460: FutureWarning: remove_na is deprecated and is a private function. Do not use.\n",
      "  stat_data = remove_na(group_data)\n",
      "/usr/lib/python3/dist-packages/scipy/stats/stats.py:1633: FutureWarning: Using a non-tuple sequence for multidimensional indexing is deprecated; use `arr[tuple(seq)]` instead of `arr[seq]`. In the future this will be interpreted as an array index, `arr[np.array(seq)]`, which will result either in an error or a different result.\n",
      "  return np.add.reduce(sorted[indexer] * weights, axis=axis) / sumval\n"
     ]
    },
    {
     "data": {
      "image/png": "[encoded data removed]",
      "text/plain": [
       "<matplotlib.figure.Figure at 0x7f19adb34ac8>"
      ]
     },
     "metadata": {},
     "output_type": "display_data"
    }
   ],
   "source": [
    "ax = sns.barplot(\"Time\", y=\"Amount\", data=fraud, palette=\"Reds_d\")"
   ]
  },
  {
   "cell_type": "markdown",
   "metadata": {},
   "source": [
    "<h2>Fraudulent transactions by time and amount with regression line</h2>"
   ]
  },
  {
   "cell_type": "code",
   "execution_count": 7,
   "metadata": {},
   "outputs": [
    {
     "name": "stderr",
     "output_type": "stream",
     "text": [
      "/usr/lib/python3/dist-packages/scipy/stats/stats.py:1633: FutureWarning: Using a non-tuple sequence for multidimensional indexing is deprecated; use `arr[tuple(seq)]` instead of `arr[seq]`. In the future this will be interpreted as an array index, `arr[np.array(seq)]`, which will result either in an error or a different result.\n",
      "  return np.add.reduce(sorted[indexer] * weights, axis=axis) / sumval\n"
     ]
    },
    {
     "data": {
      "image/png": "[encoded data removed]",
      "text/plain": [
       "<matplotlib.figure.Figure at 0x7f198bfca240>"
      ]
     },
     "metadata": {},
     "output_type": "display_data"
    }
   ],
   "source": [
    "ax = sns.regplot(\"Time\", y=\"Amount\", data=fraud, color='Red')"
   ]
  },
  {
   "cell_type": "markdown",
   "metadata": {},
   "source": [
    "<h2>All transactions by time and amount: Fraud vs. Non-fruad</h2>"
   ]
  },
  {
   "cell_type": "code",
   "execution_count": 8,
   "metadata": {},
   "outputs": [
    {
     "name": "stderr",
     "output_type": "stream",
     "text": [
      "/usr/lib/python3/dist-packages/scipy/stats/stats.py:1633: FutureWarning: Using a non-tuple sequence for multidimensional indexing is deprecated; use `arr[tuple(seq)]` instead of `arr[seq]`. In the future this will be interpreted as an array index, `arr[np.array(seq)]`, which will result either in an error or a different result.\n",
      "  return np.add.reduce(sorted[indexer] * weights, axis=axis) / sumval\n"
     ]
    },
    {
     "data": {
      "image/png": "[encoded data removed]",
      "text/plain": [
       "<matplotlib.figure.Figure at 0x7f198b75ab38>"
      ]
     },
     "metadata": {},
     "output_type": "display_data"
    }
   ],
   "source": [
    "ax = sns.lmplot(x=\"Time\", y=\"Amount\", hue=\"Class\", data=df);"
   ]
  },
  {
   "cell_type": "markdown",
   "metadata": {},
   "source": [
    "<h2>Bar chart of transactions</h2>"
   ]
  },
  {
   "cell_type": "code",
   "execution_count": 9,
   "metadata": {},
   "outputs": [
    {
     "data": {
      "image/png": "[encoded data removed]",
      "text/plain": [
       "<matplotlib.figure.Figure at 0x7f198bd17b00>"
      ]
     },
     "metadata": {},
     "output_type": "display_data"
    }
   ],
   "source": [
    "LABELS = [\"Normal\", \"Fraud\"]\n",
    "count_classes = pd.value_counts(df['Class'], sort = True)\n",
    "count_classes.plot(kind = 'bar', rot=0)\n",
    "plt.title(\"Transaction class distribution\")\n",
    "plt.xticks(range(2), LABELS)\n",
    "plt.xlabel(\"Class\")\n",
    "plt.ylabel(\"Frequency\");"
   ]
  },
  {
   "cell_type": "markdown",
   "metadata": {},
   "source": [
    "<h2>K-Means Clustering</h2>"
   ]
  },
  {
   "cell_type": "code",
   "execution_count": 10,
   "metadata": {},
   "outputs": [],
   "source": [
    "X = df.iloc[:,:-1]\n",
    "y = df['Class']\n",
    "\n",
    "X_scaled = scale(X)\n",
    "pca = PCA(n_components=2)\n",
    "X_reduced = pca.fit_transform(X_scaled)\n",
    "\n",
    "X_train, X_test, y_train, y_test = train_test_split(X_reduced, y, test_size = 0.33, random_state=500)"
   ]
  },
  {
   "cell_type": "code",
   "execution_count": 11,
   "metadata": {},
   "outputs": [
    {
     "data": {
      "text/plain": [
       "KMeans(algorithm='auto', copy_x=True, init='k-means++', max_iter=300,\n",
       "       n_clusters=2, n_init=10, n_jobs=None, precompute_distances='auto',\n",
       "       random_state=None, tol=0.0001, verbose=0)"
      ]
     },
     "execution_count": 11,
     "metadata": {},
     "output_type": "execute_result"
    }
   ],
   "source": [
    "kmeans = KMeans(init='k-means++', n_clusters=2, n_init=10)\n",
    "kmeans.fit(X_train)"
   ]
  },
  {
   "cell_type": "code",
   "execution_count": 12,
   "metadata": {},
   "outputs": [
    {
     "data": {
      "image/png": "[encoded data removed]",
      "text/plain": [
       "<matplotlib.figure.Figure at 0x7f198b6ec9b0>"
      ]
     },
     "metadata": {},
     "output_type": "display_data"
    }
   ],
   "source": [
    "# Step size of the mesh. Decrease to increase the quality of the VQ.\n",
    "h = .01     # point in the mesh [x_min, x_max]x[y_min, y_max].\n",
    "\n",
    "# Plot the decision boundary. For that, we will assign a color to each\n",
    "x_min, x_max = X_reduced[:, 0].min() - 1, X_reduced[:, 0].max() + 1\n",
    "y_min, y_max = X_reduced[:, 1].min() - 1, X_reduced[:, 1].max() + 1\n",
    "xx, yy = np.meshgrid(np.arange(x_min, x_max, h), np.arange(y_min, y_max, h))\n",
    "# Obtain labels for each point in mesh. Use last trained model.\n",
    "Z = kmeans.predict(np.c_[xx.ravel(), yy.ravel()])\n",
    "\n",
    "# Put the result into a color plot\n",
    "Z = Z.reshape(xx.shape)\n",
    "plt.figure(1)\n",
    "plt.clf()\n",
    "plt.imshow(Z, interpolation='nearest',\n",
    "           extent=(xx.min(), xx.max(), yy.min(), yy.max()),\n",
    "           cmap=plt.cm.Paired,\n",
    "           aspect='auto', origin='lower')\n",
    "\n",
    "plt.plot(X_reduced[:, 0], X_reduced[:, 1], 'k.', markersize=2)\n",
    "# Plot the centroids as a white X\n",
    "centroids = kmeans.cluster_centers_\n",
    "plt.scatter(centroids[:, 0], centroids[:, 1],\n",
    "            marker='x', s=169, linewidths=3,\n",
    "            color='w', zorder=10)\n",
    "plt.title('K-means clustering on the credit card fraud dataset (PCA-reduced data)\\n'\n",
    "          'Centroids are marked with white cross')\n",
    "\n",
    "plt.xlim(x_min, x_max)\n",
    "plt.ylim(y_min, y_max)\n",
    "plt.xticks(())\n",
    "plt.yticks(())\n",
    "plt.show()"
   ]
  },
  {
   "cell_type": "code",
   "execution_count": 13,
   "metadata": {},
   "outputs": [
    {
     "name": "stdout",
     "output_type": "stream",
     "text": [
      "Accuracy: 0.5501718322746763\n",
      "False negative rate (with respect to misclassifications):  0.0022233785893372437\n",
      "False negative rate (with respect to all the data):  0.0010001383170012874\n",
      "False negatives, false positives, mispredictions: 94 42184 42278\n",
      "Total test data points: 93987\n"
     ]
    }
   ],
   "source": [
    "predictions = kmeans.predict(X_test)\n",
    "\n",
    "pred_fraud = np.where(predictions == 1)[0]\n",
    "real_fraud = np.where(y_test == 1)[0]\n",
    "false_pos = len(np.setdiff1d(pred_fraud, real_fraud))\n",
    "\n",
    "pred_good = np.where(predictions == 0)[0]\n",
    "real_good = np.where(y_test == 0)[0]\n",
    "false_neg = len(np.setdiff1d(pred_good, real_good))\n",
    "\n",
    "false_neg_rate = false_neg/(false_pos+false_neg)\n",
    "\n",
    "accuracy = (len(X_test) - (false_neg + false_pos)) / len(X_test)\n",
    "print(\"Accuracy:\", accuracy)\n",
    "print(\"False negative rate (with respect to misclassifications): \", false_neg_rate)\n",
    "print(\"False negative rate (with respect to all the data): \", false_neg / len(predictions))\n",
    "print(\"False negatives, false positives, mispredictions:\", false_neg, false_pos, false_neg + false_pos)\n",
    "print(\"Total test data points:\", len(X_test))"
   ]
  },
  {
   "cell_type": "markdown",
   "metadata": {},
   "source": [
    "<h2>Machine Learning - Logistic Regression</h2>"
   ]
  },
  {
   "cell_type": "code",
   "execution_count": 14,
   "metadata": {},
   "outputs": [],
   "source": [
    "# Collect all columns except for the last one using iloc // Input data\n",
    "x = df.iloc[:, :-1]\n",
    "\n",
    "# Everything labeled Class is what were trying to predict\n",
    "y = df['Class']\n",
    "\n",
    "# Split training and testing data\n",
    "X_train, X_test, y_train, y_test = train_test_split(x, y, test_size=0.35)"
   ]
  },
  {
   "cell_type": "markdown",
   "metadata": {},
   "source": [
    "<h2>Build Logistic Regression Model</h2>"
   ]
  },
  {
   "cell_type": "code",
   "execution_count": 15,
   "metadata": {},
   "outputs": [
    {
     "name": "stderr",
     "output_type": "stream",
     "text": [
      "/usr/local/lib/python3.6/dist-packages/sklearn/linear_model/logistic.py:432: FutureWarning: Default solver will be changed to 'lbfgs' in 0.22. Specify a solver to silence this warning.\n",
      "  FutureWarning)\n"
     ]
    },
    {
     "name": "stdout",
     "output_type": "stream",
     "text": [
      "Score:  0.998876438309441\n"
     ]
    }
   ],
   "source": [
    "# C makes sure we are not overfitting (Inverse of lamda)\n",
    "logistic = linear_model.LogisticRegression(C=1e5)\n",
    "logistic.fit(X_train, y_train)\n",
    "print('Score: ', logistic.score(X_test, y_test))"
   ]
  },
  {
   "cell_type": "code",
   "execution_count": 16,
   "metadata": {},
   "outputs": [
    {
     "name": "stdout",
     "output_type": "stream",
     "text": [
      "[0 0 0 ... 0 0 0]\n",
      "              precision    recall  f1-score   support\n",
      "\n",
      "           0       1.00      1.00      1.00     99517\n",
      "           1       0.73      0.52      0.61       166\n",
      "\n",
      "    accuracy                           1.00     99683\n",
      "   macro avg       0.86      0.76      0.80     99683\n",
      "weighted avg       1.00      1.00      1.00     99683\n",
      "\n"
     ]
    }
   ],
   "source": [
    "y_predicted = np.array(logistic.predict(X_test))\n",
    "print(y_predicted)\n",
    "print(classification_report(y_test, y_predicted))"
   ]
  },
  {
   "cell_type": "markdown",
   "metadata": {},
   "source": [
    "<h2>Model 2</h2>"
   ]
  },
  {
   "cell_type": "code",
   "execution_count": 17,
   "metadata": {},
   "outputs": [],
   "source": [
    "features = ['Amount'] + ['V%d' % number for number in range(1, 29)]\n",
    "\n",
    "target = 'Class'\n",
    "\n",
    "# creates to new data frames, one with all the predicting data, and the other with the target\n",
    "x2 = df[features]\n",
    "y2 = df[target]"
   ]
  },
  {
   "cell_type": "markdown",
   "metadata": {},
   "source": [
    "<h3>Normalize the data</h3>"
   ]
  },
  {
   "cell_type": "code",
   "execution_count": 18,
   "metadata": {},
   "outputs": [],
   "source": [
    "def normalize(X):\n",
    "    for feature in X.columns:\n",
    "        X[feature] -= X[feature].mean()\n",
    "        X[feature] /= X[feature].std()\n",
    "    return X"
   ]
  },
  {
   "cell_type": "code",
   "execution_count": 19,
   "metadata": {},
   "outputs": [
    {
     "name": "stderr",
     "output_type": "stream",
     "text": [
      "/usr/local/lib/python3.6/dist-packages/sklearn/linear_model/logistic.py:432: FutureWarning: Default solver will be changed to 'lbfgs' in 0.22. Specify a solver to silence this warning.\n",
      "  FutureWarning)\n"
     ]
    },
    {
     "name": "stdout",
     "output_type": "stream",
     "text": [
      "[0 0 0 ... 0 0 0]\n"
     ]
    }
   ],
   "source": [
    "# Creates a model object for us to use\n",
    "model = linear_model.LogisticRegression(C=1e5)\n",
    "\n",
    "# Creates a splitter object for us to use\n",
    "splitter = StratifiedShuffleSplit(n_splits=1, test_size=0.5, random_state=0)\n",
    "\n",
    "# Loop to split the data, uses the splitter object\n",
    "for train_indices, test_indices in splitter.split(X, y):\n",
    "    # Split the data\n",
    "    X_train, y_train = X.loc[train_indices], y.iloc[train_indices]\n",
    "    X_test, y_test = X.loc[test_indices], y.iloc[test_indices]\n",
    "    \n",
    "    # Normalize\n",
    "    X_train = normalize(X_train)\n",
    "    X_test = normalize(X_test)\n",
    "    \n",
    "    # Fits the model and creates a prediction\n",
    "    model.fit(X_train, y_train)\n",
    "    y_pred = model.predict(X_test)\n",
    "    print(y_pred)"
   ]
  },
  {
   "cell_type": "code",
   "execution_count": 20,
   "metadata": {},
   "outputs": [
    {
     "name": "stdout",
     "output_type": "stream",
     "text": [
      "              precision    recall  f1-score   support\n",
      "\n",
      "           0       1.00      1.00      1.00    142158\n",
      "           1       0.86      0.61      0.71       246\n",
      "\n",
      "    accuracy                           1.00    142404\n",
      "   macro avg       0.93      0.80      0.86    142404\n",
      "weighted avg       1.00      1.00      1.00    142404\n",
      "\n"
     ]
    }
   ],
   "source": [
    "# let's see how well the model worked\n",
    "print(classification_report(y_test, y_pred))"
   ]
  },
  {
   "cell_type": "markdown",
   "metadata": {},
   "source": [
    "<h2>Amount Stolen</h2>"
   ]
  },
  {
   "cell_type": "code",
   "execution_count": 21,
   "metadata": {},
   "outputs": [
    {
     "name": "stdout",
     "output_type": "stream",
     "text": [
      "Amount stolen: \n",
      "60127.97000000001\n"
     ]
    }
   ],
   "source": [
    "amountStolen = (fraud['Amount'])\n",
    "total = 0\n",
    "for a in amountStolen:\n",
    "    total = a\n",
    "totalAmountStolen = amountStolen.sum()\n",
    "print(\"Amount stolen: \")\n",
    "print(totalAmountStolen)"
   ]
  },
  {
   "cell_type": "markdown",
   "metadata": {},
   "source": [
    "<h2>Average Amount Stolen per Transaction</h2>"
   ]
  },
  {
   "cell_type": "code",
   "execution_count": 22,
   "metadata": {},
   "outputs": [
    {
     "name": "stdout",
     "output_type": "stream",
     "text": [
      "Average amount stolen: \n",
      "122.2113211382114\n"
     ]
    }
   ],
   "source": [
    "averageAmountStolen = (totalAmountStolen / len(fraud))\n",
    "print(\"Average amount stolen: \")\n",
    "print(averageAmountStolen)"
   ]
  },
  {
   "cell_type": "markdown",
   "metadata": {},
   "source": [
    "<h1>Summary</h1><br>"
   ]
  },
  {
   "cell_type": "markdown",
   "metadata": {},
   "source": [
    "<h2>Total transactions: 284,087<br><br>\n",
    "    Fraudulent transactions: 492<br><br>\n",
    "    Amount stolen: 60,127.97<br><br>\n",
    "    Average amount stolen per fraud transaction: 122.22"
   ]
  }
 ],
 "metadata": {
  "kernelspec": {
   "display_name": "Python 3",
   "language": "python",
   "name": "python3"
  },
  "language_info": {
   "codemirror_mode": {
    "name": "ipython",
    "version": 3
   },
   "file_extension": ".py",
   "mimetype": "text/x-python",
   "name": "python",
   "nbconvert_exporter": "python",
   "pygments_lexer": "ipython3",
   "version": "3.6.8"
  }
 },
 "nbformat": 4,
 "nbformat_minor": 2
}
